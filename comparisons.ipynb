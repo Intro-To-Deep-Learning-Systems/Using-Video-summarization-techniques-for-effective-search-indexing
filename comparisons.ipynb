{
 "cells": [
  {
   "cell_type": "code",
   "execution_count": 9,
   "metadata": {},
   "outputs": [],
   "source": [
    "import matplotlib.pyplot as plt"
   ]
  },
  {
   "attachments": {},
   "cell_type": "markdown",
   "metadata": {},
   "source": [
    "## Inference time for ExpansionNet vs ClipClap\n"
   ]
  },
  {
   "cell_type": "code",
   "execution_count": 10,
   "metadata": {},
   "outputs": [],
   "source": [
    "ExpansionNetInference=1.01877\n",
    "ClipClapInference = 0.366+0.415+0.209+0.503+0.317+0.206"
   ]
  },
  {
   "cell_type": "code",
   "execution_count": 11,
   "metadata": {},
   "outputs": [
    {
     "data": {
      "text/plain": [
       "0.9788568567979035"
      ]
     },
     "execution_count": 11,
     "metadata": {},
     "output_type": "execute_result"
    }
   ],
   "source": [
    "ClipClapInference/ExpansionNetInference - 1"
   ]
  },
  {
   "cell_type": "code",
   "execution_count": 14,
   "metadata": {},
   "outputs": [
    {
     "data": {
      "text/plain": [
       "Text(0.5, 1.0, 'Inference time - ExpansionNetV2 vs ClipClap\\n Around 97.8% faster')"
      ]
     },
     "execution_count": 14,
     "metadata": {},
     "output_type": "execute_result"
    },
    {
     "data": {
      "image/png": "[encoded data removed]",
      "text/plain": [
       "<Figure size 432x288 with 1 Axes>"
      ]
     },
     "metadata": {
      "needs_background": "light"
     },
     "output_type": "display_data"
    }
   ],
   "source": [
    "bar_data={\"ExpansionNetV2\":ExpansionNetInference,\"ClipClap\":ClipClapInference}\n",
    "plt.bar(bar_data.keys(),bar_data.values(),width=0.4)\n",
    "plt.ylabel(\"seconds\")\n",
    "plt.xlabel(\"GPU - Nvidia GeForce RTX 3070\")\n",
    "plt.title(\"Inference time - ExpansionNetV2 vs ClipClap\\n Around 97.8% faster\")"
   ]
  },
  {
   "cell_type": "code",
   "execution_count": 12,
   "metadata": {},
   "outputs": [],
   "source": [
    "from nltk.translate.bleu_score import sentence_bleu\n",
    "from nltk.translate.bleu_score import corpus_bleu"
   ]
  },
  {
   "cell_type": "code",
   "execution_count": 7,
   "metadata": {},
   "outputs": [],
   "source": [
    "ACTUALS=[\"two elephants walking in a grassy flat area\",\n",
    "            \"a tennis player getting ready to hit a ball\",\n",
    "            \"a group of large boats is parts at a city marina\",\n",
    "            \"a man standing next to a man in a bathroom\",\n",
    "            \"a herd of cattle are standing and grazing in a field\",\n",
    "            \"men standing in a street next to a car and a large bus\",\n",
    "            \"a train moves past a cement station platform\",\n",
    "            \"a long railroad train carrying several cars behind it\",\n",
    "            \"a man on a motor bike on a street\",\n",
    "            \"a jumbo jet airplane coming in for a landing on a runway\"]\n",
    "\n",
    "PRED_CLIPCLAP=[\"elephants in the wild \",\n",
    "                \"tennis player in action during his first round match against tennis player\",\n",
    "                \"aerial view of the port\",\n",
    "                \"person, left, and person look at each other in the locker room\",\n",
    "                \"cattle graze in a pasture\",\n",
    "                \"passengers boarding a bus at a bus station\",\n",
    "                \"a train on the line\",\n",
    "                \"a train passes through australian local government area\",\n",
    "                \"a police officer on a scooter\",\n",
    "                \"aircraft model on the runway\"]\n",
    "\n",
    "PRED_EXPANSIONNET=[\"Two elephants walking in the grass in a field\",\n",
    "                    \"A man holding a tennis racket on a tennis court\",\n",
    "                    \"A group of boats are parked in the water at a beach\",\n",
    "                    \"Two men in ties standing in front of a bathroom mirror\",\n",
    "                    \"A herd of cows grazing in a field\",\n",
    "                    \"A group of people standing on top of a car with a bus\",\n",
    "                    \"A train is on the tracks at a train station\",\n",
    "                    \"A train is on the tracks in a field\",\n",
    "                    \"A police officer riding a motorcycle on a city street\",\n",
    "                    \"A large airplane taking off from an airport runway\"]"
   ]
  },
  {
   "cell_type": "code",
   "execution_count": 29,
   "metadata": {},
   "outputs": [],
   "source": [
    "ACTUALS=[\"two elephants walking in a grassy flat area\",\n",
    "            \"a tennis player getting ready to hit a ball\",\n",
    "            \"a group of large boats is parts at a city marina\",\n",
    "            \"a man standing next to a man in a bathroom\",\n",
    "            \"a herd of cattle are standing and grazing in a field\",\n",
    "            \"men standing in a street next to a car and a large bus\",\n",
    "            \"a train moves past a cement station platform\",\n",
    "            \"a long railroad train carrying several cars behind it\",\n",
    "            \"a man on a motor bike on a street\",\n",
    "            \"a jumbo jet airplane coming in for a landing on a runway\"]\n",
    "\n",
    "PRED_CLIPCLAP=[\"elephants in the wild \",\n",
    "                \"tennis player in action during his first round match against tennis player\",\n",
    "                \"aerial view of the port\",\n",
    "                \"person, left, and person look at each other in the locker room\",\n",
    "                \"cattle graze in a pasture\",\n",
    "                \"passengers boarding a bus at a bus station\",\n",
    "                \"a train on the line\",\n",
    "                \"a train passes through australian local government area\",\n",
    "                \"a police officer on a scooter\",\n",
    "                \"aircraft model on the runway\"]\n",
    "\n",
    "PRED_EXPANSIONNET=[\"Two elephants walking in the grass in a field\",\n",
    "                    \"A man holding a tennis racket on a tennis court\",\n",
    "                    \"A group of boats are parked in the water at a beach\",\n",
    "                    \"Two men in ties standing in front of a bathroom mirror\",\n",
    "                    \"A herd of cows grazing in a field\",\n",
    "                    \"A group of people standing on top of a car with a bus\",\n",
    "                    \"A train is on the tracks at a train station\",\n",
    "                    \"A train is on the tracks in a field\",\n",
    "                    \"A police officer riding a motorcycle on a city street\",\n",
    "                    \"A large airplane taking off from an airport runway\"]"
   ]
  },
  {
   "cell_type": "code",
   "execution_count": 35,
   "metadata": {},
   "outputs": [
    {
     "name": "stdout",
     "output_type": "stream",
     "text": [
      "3.675\n",
      "3.675\n",
      "2.2297591297591297\n",
      "2.2297591297591297\n"
     ]
    }
   ],
   "source": [
    "from rouge_score import rouge_scorer\n",
    "scorer = rouge_scorer.RougeScorer(['rouge1', 'rougeL'], use_stemmer=True)\n",
    "AVG_ROUGE_1_precision=0\n",
    "AVG_ROUGE_1_recall=0\n",
    "AVG_ROUGE_L_precision=0\n",
    "AVG_ROUGE_L_recall=0\n",
    "\n",
    "for i  in range(10):\n",
    "    scores=scorer.score(ACTUALS[i], PRED_CLIPCLAP[i])\n",
    "    AVG_ROUGE_1_precision+=scores['rouge1'].precision\n",
    "    AVG_ROUGE_L_precision+=scores['rougeL'].precision\n",
    "\n",
    "    AVG_ROUGE_1_recall+=scores['rouge1'].recall\n",
    "    AVG_ROUGE_L_recall+=scores['rougeL'].recall\n",
    "print(AVG_ROUGE_1_precision)\n",
    "print(AVG_ROUGE_L_precision)\n",
    "print(AVG_ROUGE_1_recall)\n",
    "print(AVG_ROUGE_L_recall)\n"
   ]
  },
  {
   "cell_type": "code",
   "execution_count": 36,
   "metadata": {},
   "outputs": [
    {
     "name": "stdout",
     "output_type": "stream",
     "text": [
      "4.511285936285936\n",
      "4.434362859362859\n",
      "4.529467754467754\n",
      "4.452544677544678\n"
     ]
    }
   ],
   "source": [
    "from rouge_score import rouge_scorer\n",
    "scorer = rouge_scorer.RougeScorer(['rouge1', 'rougeL'], use_stemmer=True)\n",
    "AVG_ROUGE_1_precision=0\n",
    "AVG_ROUGE_1_recall=0\n",
    "AVG_ROUGE_L_precision=0\n",
    "AVG_ROUGE_L_recall=0\n",
    "\n",
    "for i  in range(10):\n",
    "    scores=scorer.score(ACTUALS[i], PRED_EXPANSIONNET[i])\n",
    "    AVG_ROUGE_1_precision+=scores['rouge1'].precision\n",
    "    AVG_ROUGE_L_precision+=scores['rougeL'].precision\n",
    "\n",
    "    AVG_ROUGE_1_recall+=scores['rouge1'].recall\n",
    "    AVG_ROUGE_L_recall+=scores['rougeL'].recall\n",
    "print(AVG_ROUGE_1_precision)\n",
    "print(AVG_ROUGE_L_precision)\n",
    "print(AVG_ROUGE_1_recall)\n",
    "print(AVG_ROUGE_L_recall)\n"
   ]
  },
  {
   "cell_type": "code",
   "execution_count": 22,
   "metadata": {},
   "outputs": [
    {
     "data": {
      "text/plain": [
       "Text(0.5, 1.0, 'ROUGE 1 PRECISION - ExpansionNetV2 vs ClipClap')"
      ]
     },
     "execution_count": 22,
     "metadata": {},
     "output_type": "execute_result"
    },
    {
     "data": {
      "image/png": "[encoded data removed]",
      "text/plain": [
       "<Figure size 432x288 with 1 Axes>"
      ]
     },
     "metadata": {
      "needs_background": "light"
     },
     "output_type": "display_data"
    }
   ],
   "source": [
    "bar_data={\"ExpansionNetV2\":3.675,\"ClipClap\":4.511285936285936}\n",
    "plt.bar(bar_data.keys(),bar_data.values(),width=0.4)\n",
    "plt.ylabel(\"seconds\")\n",
    "plt.xlabel(\"GPU - Nvidia GeForce RTX 3070\")\n",
    "plt.title(\"ROUGE 1 PRECISION - ExpansionNetV2 vs ClipClap\")    "
   ]
  },
  {
   "cell_type": "code",
   "execution_count": 23,
   "metadata": {},
   "outputs": [
    {
     "data": {
      "text/plain": [
       "Text(0.5, 1.0, 'ROUGE 1 RECALL- ExpansionNetV2 vs ClipClap')"
      ]
     },
     "execution_count": 23,
     "metadata": {},
     "output_type": "execute_result"
    },
    {
     "data": {
      "image/png": "[encoded data removed]",
      "text/plain": [
       "<Figure size 432x288 with 1 Axes>"
      ]
     },
     "metadata": {
      "needs_background": "light"
     },
     "output_type": "display_data"
    }
   ],
   "source": [
    "bar_data={\"ExpansionNetV2\":3.675,\"ClipClap\":4.434362859362859}\n",
    "plt.bar(bar_data.keys(),bar_data.values(),width=0.4)\n",
    "plt.ylabel(\"seconds\")\n",
    "plt.xlabel(\"GPU - Nvidia GeForce RTX 3070\")\n",
    "plt.title(\"ROUGE 1 RECALL- ExpansionNetV2 vs ClipClap\")    "
   ]
  },
  {
   "cell_type": "code",
   "execution_count": 24,
   "metadata": {},
   "outputs": [
    {
     "data": {
      "text/plain": [
       "Text(0.5, 1.0, 'ROUGE L PRECISION - ExpansionNetV2 vs ClipClap')"
      ]
     },
     "execution_count": 24,
     "metadata": {},
     "output_type": "execute_result"
    },
    {
     "data": {
      "image/png": "[encoded data removed]",
      "text/plain": [
       "<Figure size 432x288 with 1 Axes>"
      ]
     },
     "metadata": {
      "needs_background": "light"
     },
     "output_type": "display_data"
    }
   ],
   "source": [
    "bar_data={\"ExpansionNetV2\":2.2297591297591297,\"ClipClap\":4.529467754467754}\n",
    "plt.bar(bar_data.keys(),bar_data.values(),width=0.4)\n",
    "plt.ylabel(\"seconds\")\n",
    "plt.xlabel(\"GPU - Nvidia GeForce RTX 3070\")\n",
    "plt.title(\"ROUGE L PRECISION - ExpansionNetV2 vs ClipClap\")    "
   ]
  },
  {
   "cell_type": "code",
   "execution_count": 25,
   "metadata": {},
   "outputs": [
    {
     "data": {
      "text/plain": [
       "Text(0.5, 1.0, 'ROUGE L RECALL - ExpansionNetV2 vs ClipClap')"
      ]
     },
     "execution_count": 25,
     "metadata": {},
     "output_type": "execute_result"
    },
    {
     "data": {
      "image/png": "[encoded data removed]",
      "text/plain": [
       "<Figure size 432x288 with 1 Axes>"
      ]
     },
     "metadata": {
      "needs_background": "light"
     },
     "output_type": "display_data"
    }
   ],
   "source": [
    "bar_data={\"ExpansionNetV2\":2.2297591297591297,\"ClipClap\":4.452544677544678}\n",
    "plt.bar(bar_data.keys(),bar_data.values(),width=0.4)\n",
    "plt.ylabel(\"seconds\")\n",
    "plt.xlabel(\"GPU - Nvidia GeForce RTX 3070\")\n",
    "plt.title(\"ROUGE L RECALL - ExpansionNetV2 vs ClipClap\")    "
   ]
  },
  {
   "attachments": {},
   "cell_type": "markdown",
   "metadata": {},
   "source": [
    "## BleU score"
   ]
  },
  {
   "cell_type": "code",
   "execution_count": 3,
   "metadata": {},
   "outputs": [],
   "source": [
    "references=[\n",
    "    [\"two adult and one baby elephants in the bush.\",\n",
    "\"three elephants, one being much smaller, are in the wild.\",\n",
    "\"a group of elephants standing in a field.\",\n",
    "\"three elephants standing outside in tall green and white grass\",\n",
    "\"three male elephants standing by the edge of the forest\"],\n",
    "    [\n",
    "        \"two men taking care of an elephant near stairs.\",\n",
    "        \"a person is getting ready to ride on top of an elephant.\",\n",
    "        \"a person is standing on a stairway beside an elephant carrying a man.\",\n",
    "        \"an elephant eating some leaves next to a flight of steps\",\n",
    "        \"one man riding on top of an elephant\"\n",
    "    ],\n",
    "    [\n",
    "        \"an elephant digging in dirt playfully on a dirty lot.\",\n",
    "\"baby elephant digging a hole in the dirt\",\n",
    "\"an elephant rubbing its head in the mud.\",\n",
    "\"a baby elephant playing in the mud with it's face in the dirt.\",\n",
    "\"an elephant is digging in the soft soil.\"\n",
    "    ],\n",
    "    [\n",
    "        \"a couple of people riding on the back of an elephant.\",\n",
    "        \"a couple of people riding an elephant on a bench.\",\n",
    "        \"two people riding an elephant on a path with many trees near by\",\n",
    "        \"two people on an elephant in the jungle.\",\n",
    "        \"two people riding on top of an elephant in the jungle\"\n",
    "    ],\n",
    "    [\n",
    "        \"there are numerous elephants playing in the mud\",\n",
    "\"a number of elephants near one another in a field\",\n",
    "\"several elephants walk along a river while a baby elephant nurses on its mom.\",\n",
    "\"a group of elephants near a river and grass\",\n",
    "\"baby elephants are standing near their mothers on dirt\"\n",
    "    ],\n",
    "    [\n",
    "        \"there is an elephant standing near the water.\",\n",
    "\"an elephant drinks from a nearby river, while birds stand around.\",\n",
    "\"a fully grown elephant drinking water out of a lake.\",\n",
    "\"an elephant walking in the grass near water.\",\n",
    "\"an elephants in a field near a body of water\"\n",
    "    ],\n",
    "    [\n",
    "       ' three elephants in a zoo two are facing away.'\n",
    "\"two elephants in a pen with their backs turned.\",\n",
    "\"two elephants standing next to a wooden gate\",\n",
    "\"two baby elephants are standing near a gate.\",\n",
    "\"two elephants standing next to each other at a zoo.\"\n",
    "    ],\n",
    "    [\n",
    "         \"a number of elephants near one another in a small body of water\",\n",
    "\"a bunch of elephants swimming in a river with a lot of rocks in it\",\n",
    "\"a bunch of elephants are in the water\",\n",
    "\"a large group of elephants who are in the water.\",\n",
    "\"a herd of elephants are wading in the water.\"\n",
    "    ],\n",
    "    [\n",
    "        \"two men getting hold of an elephant in some body of water.\",\n",
    "\"two men are with an elephant laying in the water.\",\n",
    "\"an elephant laying on its side in a body of water\",\n",
    "\"two people giving a elephant a bath in the river.\",\n",
    "\"an elephant laying on it's side in a lake.\"\n",
    "    ],\n",
    "    [\n",
    "        \"an elephant sprays water from its trunk onto it's back in treed area.\",\n",
    "\"an elephant under the trees spraying water with its trunk.\",\n",
    "\"an elephant sloshes water on itself with it's trunk\",\n",
    "\"a black elephant with tusks spraying water over his head.\",\n",
    "\"an elephant is spraying water up and over itself\"\n",
    "    ]\n",
    "]"
   ]
  },
  {
   "cell_type": "code",
   "execution_count": 1,
   "metadata": {},
   "outputs": [],
   "source": [
    "EXPANSTIONNET=['A group of elephants standing in the grass.', 'A man riding on the back of an elephant.', 'A baby elephant laying in the dirt.', 'Two people riding on the back of an elephant.', 'A herd of elephants standing next to the water.', 'An elephant standing next to a body of water.', 'Two elephants standing next to each other in a zoo.', 'A herd of elephants are in a river.', 'Two men standing next to an elephant in a river.', 'An elephant with its trunk in the water.']"
   ]
  },
  {
   "cell_type": "code",
   "execution_count": 2,
   "metadata": {},
   "outputs": [],
   "source": [
    "CLICLAP=['elephants in the wild - photo #.', 'elephants in the jungle - photo #.', 'elephant playing in the mud.', 'tourist attraction with an elephant.', 'elephants drinking at a waterhole.', 'elephants in the wild - photo #.', 'elephants in the zoo - photo #.', 'elephants bathing in the river.', 'elephants bathing in the river.', 'elephants in the wild - photo #.']"
   ]
  },
  {
   "cell_type": "code",
   "execution_count": 15,
   "metadata": {},
   "outputs": [
    {
     "name": "stdout",
     "output_type": "stream",
     "text": [
      "0.2629922683568632\n"
     ]
    },
    {
     "name": "stderr",
     "output_type": "stream",
     "text": [
      "c:\\Users\\Ashwin Kumar\\anaconda3\\lib\\site-packages\\nltk\\translate\\bleu_score.py:552: UserWarning: \n",
      "The hypothesis contains 0 counts of 4-gram overlaps.\n",
      "Therefore the BLEU score evaluates to 0, independently of\n",
      "how many N-gram overlaps of lower order it contains.\n",
      "Consider using lower n-gram order or use SmoothingFunction()\n",
      "  warnings.warn(_msg)\n",
      "c:\\Users\\Ashwin Kumar\\anaconda3\\lib\\site-packages\\nltk\\translate\\bleu_score.py:552: UserWarning: \n",
      "The hypothesis contains 0 counts of 3-gram overlaps.\n",
      "Therefore the BLEU score evaluates to 0, independently of\n",
      "how many N-gram overlaps of lower order it contains.\n",
      "Consider using lower n-gram order or use SmoothingFunction()\n",
      "  warnings.warn(_msg)\n"
     ]
    }
   ],
   "source": [
    "AVG_BLEU_EXP=0\n",
    "for i in range(10):\n",
    "    bleu=sentence_bleu([x.split() for x in references[i]], EXPANSTIONNET[i].split())\n",
    "    AVG_BLEU_EXP+=bleu\n",
    "AVG_BLEU_EXP/=10\n",
    "print(AVG_BLEU_EXP)"
   ]
  },
  {
   "cell_type": "code",
   "execution_count": 16,
   "metadata": {},
   "outputs": [
    {
     "name": "stdout",
     "output_type": "stream",
     "text": [
      "0.04614937374409929\n"
     ]
    },
    {
     "name": "stderr",
     "output_type": "stream",
     "text": [
      "c:\\Users\\Ashwin Kumar\\anaconda3\\lib\\site-packages\\nltk\\translate\\bleu_score.py:552: UserWarning: \n",
      "The hypothesis contains 0 counts of 4-gram overlaps.\n",
      "Therefore the BLEU score evaluates to 0, independently of\n",
      "how many N-gram overlaps of lower order it contains.\n",
      "Consider using lower n-gram order or use SmoothingFunction()\n",
      "  warnings.warn(_msg)\n",
      "c:\\Users\\Ashwin Kumar\\anaconda3\\lib\\site-packages\\nltk\\translate\\bleu_score.py:552: UserWarning: \n",
      "The hypothesis contains 0 counts of 3-gram overlaps.\n",
      "Therefore the BLEU score evaluates to 0, independently of\n",
      "how many N-gram overlaps of lower order it contains.\n",
      "Consider using lower n-gram order or use SmoothingFunction()\n",
      "  warnings.warn(_msg)\n",
      "c:\\Users\\Ashwin Kumar\\anaconda3\\lib\\site-packages\\nltk\\translate\\bleu_score.py:552: UserWarning: \n",
      "The hypothesis contains 0 counts of 2-gram overlaps.\n",
      "Therefore the BLEU score evaluates to 0, independently of\n",
      "how many N-gram overlaps of lower order it contains.\n",
      "Consider using lower n-gram order or use SmoothingFunction()\n",
      "  warnings.warn(_msg)\n"
     ]
    }
   ],
   "source": [
    "AVG_BLEU_CLIPCLAP=0\n",
    "for i in range(10):\n",
    "    bleu=sentence_bleu([x.split() for x in references[i]], CLICLAP[i].split())\n",
    "    AVG_BLEU_CLIPCLAP+=bleu\n",
    "AVG_BLEU_CLIPCLAP/=10\n",
    "print(AVG_BLEU_CLIPCLAP)"
   ]
  },
  {
   "cell_type": "code",
   "execution_count": 21,
   "metadata": {},
   "outputs": [
    {
     "data": {
      "text/plain": [
       "Text(0.5, 1.0, 'BLeU Score - ExpansionNetV2 vs ClipClap')"
      ]
     },
     "execution_count": 21,
     "metadata": {},
     "output_type": "execute_result"
    },
    {
     "data": {
      "image/png": "[encoded data removed]",
      "text/plain": [
       "<Figure size 432x288 with 1 Axes>"
      ]
     },
     "metadata": {
      "needs_background": "light"
     },
     "output_type": "display_data"
    }
   ],
   "source": [
    "bar_data={\"ExpansionNetV2\":0.2629922683568632,\"ClipClap\":0.04614937374409929}\n",
    "plt.bar(bar_data.keys(),bar_data.values(),width=0.4)\n",
    "plt.ylabel(\"seconds\")\n",
    "plt.xlabel(\"GPU - Nvidia GeForce RTX 3070\")\n",
    "plt.title(\"BLeU Score - ExpansionNetV2 vs ClipClap\")"
   ]
  },
  {
   "cell_type": "code",
   "execution_count": null,
   "metadata": {},
   "outputs": [],
   "source": []
  }
 ],
 "metadata": {
  "kernelspec": {
   "display_name": "base",
   "language": "python",
   "name": "python3"
  },
  "language_info": {
   "codemirror_mode": {
    "name": "ipython",
    "version": 3
   },
   "file_extension": ".py",
   "mimetype": "text/x-python",
   "name": "python",
   "nbconvert_exporter": "python",
   "pygments_lexer": "ipython3",
   "version": "3.9.12"
  },
  "orig_nbformat": 4,
  "vscode": {
   "interpreter": {
    "hash": "29f432eb54cdb187befbe81dbc0d9eab8f06a7d76957a228f160ff5c05d3a4f0"
   }
  }
 },
 "nbformat": 4,
 "nbformat_minor": 2
}
