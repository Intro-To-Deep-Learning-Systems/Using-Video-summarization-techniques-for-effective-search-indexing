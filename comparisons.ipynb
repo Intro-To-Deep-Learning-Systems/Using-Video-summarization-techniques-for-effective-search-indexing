{
 "cells": [
  {
   "cell_type": "code",
   "execution_count": 4,
   "metadata": {},
   "outputs": [],
   "source": [
    "import matplotlib.pyplot as plt"
   ]
  },
  {
   "attachments": {},
   "cell_type": "markdown",
   "metadata": {},
   "source": [
    "## Inference time for ExpansionNet vs ClipClap\n"
   ]
  },
  {
   "cell_type": "code",
   "execution_count": 2,
   "metadata": {},
   "outputs": [],
   "source": [
    "ExpansionNetInference=1.01877\n",
    "ClipClapInference = 0.366+0.415+0.209+0.503+0.317+0.206"
   ]
  },
  {
   "cell_type": "code",
   "execution_count": 10,
   "metadata": {},
   "outputs": [
    {
     "data": {
      "text/plain": [
       "0.9788568567979035"
      ]
     },
     "execution_count": 10,
     "metadata": {},
     "output_type": "execute_result"
    }
   ],
   "source": [
    "ClipClapInference/ExpansionNetInference - 1"
   ]
  },
  {
   "cell_type": "code",
   "execution_count": 14,
   "metadata": {},
   "outputs": [
    {
     "data": {
      "text/plain": [
       "Text(0.5, 1.0, 'Inference time - ExpansionNetV2 vs ClipClap\\n Around 97.8% faster')"
      ]
     },
     "execution_count": 14,
     "metadata": {},
     "output_type": "execute_result"
    },
    {
     "data": {
      "image/png": "[encoded data removed]",
      "text/plain": [
       "<Figure size 432x288 with 1 Axes>"
      ]
     },
     "metadata": {
      "needs_background": "light"
     },
     "output_type": "display_data"
    }
   ],
   "source": [
    "bar_data={\"ExpansionNetV2\":ExpansionNetInference,\"ClipClap\":ClipClapInference}\n",
    "plt.bar(bar_data.keys(),bar_data.values(),width=0.4)\n",
    "plt.ylabel(\"seconds\")\n",
    "plt.xlabel(\"GPU - Nvidia GeForce RTX 3070\")\n",
    "plt.title(\"Inference time - ExpansionNetV2 vs ClipClap\\n Around 97.8% faster\")"
   ]
  },
  {
   "attachments": {},
   "cell_type": "markdown",
   "metadata": {},
   "source": [
    "Bleu score for ExpansionNetV2"
   ]
  },
  {
   "cell_type": "code",
   "execution_count": 12,
   "metadata": {},
   "outputs": [],
   "source": [
    "from nltk.translate.bleu_score import sentence_bleu\n",
    "from nltk.translate.bleu_score import corpus_bleu"
   ]
  },
  {
   "cell_type": "code",
   "execution_count": 7,
   "metadata": {},
   "outputs": [],
   "source": [
    "ACTUALS=[\"two elephants walking in a grassy flat area\",\n",
    "            \"a tennis player getting ready to hit a ball\",\n",
    "            \"a group of large boats is parts at a city marina\",\n",
    "            \"a man standing next to a man in a bathroom\",\n",
    "            \"a herd of cattle are standing and grazing in a field\",\n",
    "            \"men standing in a street next to a car and a large bus\",\n",
    "            \"a train moves past a cement station platform\",\n",
    "            \"a long railroad train carrying several cars behind it\",\n",
    "            \"a man on a motor bike on a street\",\n",
    "            \"a jumbo jet airplane coming in for a landing on a runway\"]\n",
    "\n",
    "PRED_CLIPCLAP=[\"elephants in the wild \",\n",
    "                \"tennis player in action during his first round match against tennis player\",\n",
    "                \"aerial view of the port\",\n",
    "                \"person, left, and person look at each other in the locker room\",\n",
    "                \"cattle graze in a pasture\",\n",
    "                \"passengers boarding a bus at a bus station\",\n",
    "                \"a train on the line\",\n",
    "                \"a train passes through australian local government area\",\n",
    "                \"a police officer on a scooter\",\n",
    "                \"aircraft model on the runway\"]\n",
    "\n",
    "PRED_EXPANSIONNET=[\"Two elephants walking in the grass in a field\",\n",
    "                    \"A man holding a tennis racket on a tennis court\",\n",
    "                    \"A group of boats are parked in the water at a beach\",\n",
    "                    \"Two men in ties standing in front of a bathroom mirror\",\n",
    "                    \"A herd of cows grazing in a field\",\n",
    "                    \"A group of people standing on top of a car with a bus\",\n",
    "                    \"A train is on the tracks at a train station\",\n",
    "                    \"A train is on the tracks in a field\",\n",
    "                    \"A police officer riding a motorcycle on a city street\",\n",
    "                    \"A large airplane taking off from an airport runway\"]"
   ]
  },
  {
   "cell_type": "code",
   "execution_count": 27,
   "metadata": {},
   "outputs": [
    {
     "name": "stdout",
     "output_type": "stream",
     "text": [
      "0.011124967107243788\n"
     ]
    }
   ],
   "source": [
    "AVG_BLEU_CLIPCLAP=0\n",
    "for candidate in PRED_CLIPCLAP:\n",
    "    bleu=sentence_bleu(ACTUALS, candidate)\n",
    "    AVG_BLEU_CLIPCLAP+=bleu\n",
    "AVG_BLEU_CLIPCLAP/=10\n",
    "print(AVG_BLEU_CLIPCLAP)"
   ]
  },
  {
   "cell_type": "code",
   "execution_count": 28,
   "metadata": {},
   "outputs": [
    {
     "name": "stdout",
     "output_type": "stream",
     "text": [
      "0.04111336169005197\n"
     ]
    }
   ],
   "source": [
    "AVG_BLEU_EXP=0\n",
    "for candidate in PRED_EXPANSIONNET:\n",
    "    bleu=sentence_bleu(ACTUALS, candidate)\n",
    "    AVG_BLEU_EXP+=bleu\n",
    "AVG_BLEU_EXP/=10\n",
    "print(AVG_BLEU_EXP)"
   ]
  },
  {
   "cell_type": "code",
   "execution_count": 29,
   "metadata": {},
   "outputs": [],
   "source": [
    "ACTUALS=[\"two elephants walking in a grassy flat area\",\n",
    "            \"a tennis player getting ready to hit a ball\",\n",
    "            \"a group of large boats is parts at a city marina\",\n",
    "            \"a man standing next to a man in a bathroom\",\n",
    "            \"a herd of cattle are standing and grazing in a field\",\n",
    "            \"men standing in a street next to a car and a large bus\",\n",
    "            \"a train moves past a cement station platform\",\n",
    "            \"a long railroad train carrying several cars behind it\",\n",
    "            \"a man on a motor bike on a street\",\n",
    "            \"a jumbo jet airplane coming in for a landing on a runway\"]\n",
    "\n",
    "PRED_CLIPCLAP=[\"elephants in the wild \",\n",
    "                \"tennis player in action during his first round match against tennis player\",\n",
    "                \"aerial view of the port\",\n",
    "                \"person, left, and person look at each other in the locker room\",\n",
    "                \"cattle graze in a pasture\",\n",
    "                \"passengers boarding a bus at a bus station\",\n",
    "                \"a train on the line\",\n",
    "                \"a train passes through australian local government area\",\n",
    "                \"a police officer on a scooter\",\n",
    "                \"aircraft model on the runway\"]\n",
    "\n",
    "PRED_EXPANSIONNET=[\"Two elephants walking in the grass in a field\",\n",
    "                    \"A man holding a tennis racket on a tennis court\",\n",
    "                    \"A group of boats are parked in the water at a beach\",\n",
    "                    \"Two men in ties standing in front of a bathroom mirror\",\n",
    "                    \"A herd of cows grazing in a field\",\n",
    "                    \"A group of people standing on top of a car with a bus\",\n",
    "                    \"A train is on the tracks at a train station\",\n",
    "                    \"A train is on the tracks in a field\",\n",
    "                    \"A police officer riding a motorcycle on a city street\",\n",
    "                    \"A large airplane taking off from an airport runway\"]"
   ]
  },
  {
   "cell_type": "code",
   "execution_count": 35,
   "metadata": {},
   "outputs": [
    {
     "name": "stdout",
     "output_type": "stream",
     "text": [
      "3.675\n",
      "3.675\n",
      "2.2297591297591297\n",
      "2.2297591297591297\n"
     ]
    }
   ],
   "source": [
    "from rouge_score import rouge_scorer\n",
    "scorer = rouge_scorer.RougeScorer(['rouge1', 'rougeL'], use_stemmer=True)\n",
    "AVG_ROUGE_1_precision=0\n",
    "AVG_ROUGE_1_recall=0\n",
    "AVG_ROUGE_L_precision=0\n",
    "AVG_ROUGE_L_recall=0\n",
    "\n",
    "for i  in range(10):\n",
    "    scores=scorer.score(ACTUALS[i], PRED_CLIPCLAP[i])\n",
    "    AVG_ROUGE_1_precision+=scores['rouge1'].precision\n",
    "    AVG_ROUGE_L_precision+=scores['rougeL'].precision\n",
    "\n",
    "    AVG_ROUGE_1_recall+=scores['rouge1'].recall\n",
    "    AVG_ROUGE_L_recall+=scores['rougeL'].recall\n",
    "print(AVG_ROUGE_1_precision)\n",
    "print(AVG_ROUGE_L_precision)\n",
    "print(AVG_ROUGE_1_recall)\n",
    "print(AVG_ROUGE_L_recall)\n"
   ]
  },
  {
   "cell_type": "code",
   "execution_count": 36,
   "metadata": {},
   "outputs": [
    {
     "name": "stdout",
     "output_type": "stream",
     "text": [
      "4.511285936285936\n",
      "4.434362859362859\n",
      "4.529467754467754\n",
      "4.452544677544678\n"
     ]
    }
   ],
   "source": [
    "from rouge_score import rouge_scorer\n",
    "scorer = rouge_scorer.RougeScorer(['rouge1', 'rougeL'], use_stemmer=True)\n",
    "AVG_ROUGE_1_precision=0\n",
    "AVG_ROUGE_1_recall=0\n",
    "AVG_ROUGE_L_precision=0\n",
    "AVG_ROUGE_L_recall=0\n",
    "\n",
    "for i  in range(10):\n",
    "    scores=scorer.score(ACTUALS[i], PRED_EXPANSIONNET[i])\n",
    "    AVG_ROUGE_1_precision+=scores['rouge1'].precision\n",
    "    AVG_ROUGE_L_precision+=scores['rougeL'].precision\n",
    "\n",
    "    AVG_ROUGE_1_recall+=scores['rouge1'].recall\n",
    "    AVG_ROUGE_L_recall+=scores['rougeL'].recall\n",
    "print(AVG_ROUGE_1_precision)\n",
    "print(AVG_ROUGE_L_precision)\n",
    "print(AVG_ROUGE_1_recall)\n",
    "print(AVG_ROUGE_L_recall)\n"
   ]
  },
  {
   "cell_type": "code",
   "execution_count": null,
   "metadata": {},
   "outputs": [],
   "source": []
  }
 ],
 "metadata": {
  "kernelspec": {
   "display_name": "base",
   "language": "python",
   "name": "python3"
  },
  "language_info": {
   "codemirror_mode": {
    "name": "ipython",
    "version": 3
   },
   "file_extension": ".py",
   "mimetype": "text/x-python",
   "name": "python",
   "nbconvert_exporter": "python",
   "pygments_lexer": "ipython3",
   "version": "3.9.12"
  },
  "orig_nbformat": 4,
  "vscode": {
   "interpreter": {
    "hash": "29f432eb54cdb187befbe81dbc0d9eab8f06a7d76957a228f160ff5c05d3a4f0"
   }
  }
 },
 "nbformat": 4,
 "nbformat_minor": 2
}
